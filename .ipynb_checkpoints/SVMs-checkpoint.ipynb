{
 "cells": [
  {
   "cell_type": "markdown",
   "source": [],
   "metadata": {
    "collapsed": false
   },
   "id": "8b09accabb52418b"
  },
  {
   "cell_type": "markdown",
   "source": [
    "                                        Máquinas de vectores de soporte\n",
    "\n",
    "\n",
    "Las máquinas de vectores de soporte o máquina de vector de soporte (del inglés support-vector machines, SVM) son un conjunto de algoritmos de aprendizaje supervisado desarrollados por Vladímir Vapnik y su equipo en los laboratorios de AT&T Bell.\n",
    "\n",
    "Estos métodos están propiamente relacionados con problemas de clasificación y regresión. Dado un conjunto de ejemplos de formación (de muestras) podemos etiquetar las clases y formar una SVM para construir un modelo que prediga la clase de una nueva muestra. Intuitivamente, una SVM es un modelo que representa a los puntos de muestra en el espacio, separando las clases a 2 espacios lo más amplios posibles mediante un hiperplano de separación definido como el vector entre los 2 puntos, de las 2 clases, más cercanos al que se llama vector soporte. Cuando las nuevas muestras se ponen en correspondencia con dicho modelo, en función de los espacios a los que pertenezcan, pueden ser clasificadas a una o la otra clase.\n",
    "\n",
    "Dado un conjunto de puntos, subconjunto de un conjunto mayor (espacio), en el que cada uno de ellos pertenece a una de dos posibles categorías, un algoritmo basado en SVM construye un modelo capaz de predecir si un punto nuevo (cuya categoría desconocemos) pertenece a una categoría o a la otra. Como en la mayoría de los métodos de clasificación supervisada, los datos de entrada (los puntos) son vistos como un vector p-dimensional (una lista ordenada de p números). La SVM busca un hiperplano que separe de forma óptima a los puntos de una clase de la de otra, que eventualmente han podido ser previamente proyectados a un espacio de dimensionalidad superior.\n",
    "\n",
    "\n",
    "####  Ejercicio Práctico\n",
    "\n",
    "\n",
    "Para realizar uso del dataset asociado a esta práctica utilizaremos un dataset sobre información acerca del cáncer.\n",
    "\n",
    "Cargue y devuelva el conjunto de datos de Wisconsin sobre cáncer de mama (clasificación).\n",
    "\n",
    "El conjunto de datos sobre cáncer de mama es un conjunto de datos de clasificación binaria clásico y muy sencillo.\n",
    "\n",
    "\n",
    "Conjunto de datos\n",
    "Clases = 2\n",
    "\n",
    "Muestras por clase = 212(M),357(B)\n",
    "\n",
    "Total de muestras = 569\n",
    "\n",
    "Dimensionalidad = 30\n",
    "\n",
    "Características= real, positivo"
   ],
   "metadata": {
    "collapsed": false
   },
   "id": "da1193f0ed842a7e"
  },
  {
   "cell_type": "code",
   "execution_count": 3,
   "id": "initial_id",
   "metadata": {
    "collapsed": true,
    "ExecuteTime": {
     "end_time": "2024-01-29T02:33:16.014037200Z",
     "start_time": "2024-01-29T02:33:13.725336700Z"
    }
   },
   "outputs": [
    {
     "data": {
      "text/plain": "   mean radius  mean texture  mean perimeter  mean area  mean smoothness  \\\n0        17.99         10.38          122.80     1001.0          0.11840   \n1        20.57         17.77          132.90     1326.0          0.08474   \n2        19.69         21.25          130.00     1203.0          0.10960   \n3        11.42         20.38           77.58      386.1          0.14250   \n4        20.29         14.34          135.10     1297.0          0.10030   \n\n   mean compactness  mean concavity  mean concave points  mean symmetry  \\\n0           0.27760          0.3001              0.14710         0.2419   \n1           0.07864          0.0869              0.07017         0.1812   \n2           0.15990          0.1974              0.12790         0.2069   \n3           0.28390          0.2414              0.10520         0.2597   \n4           0.13280          0.1980              0.10430         0.1809   \n\n   mean fractal dimension  ...  worst texture  worst perimeter  worst area  \\\n0                 0.07871  ...          17.33           184.60      2019.0   \n1                 0.05667  ...          23.41           158.80      1956.0   \n2                 0.05999  ...          25.53           152.50      1709.0   \n3                 0.09744  ...          26.50            98.87       567.7   \n4                 0.05883  ...          16.67           152.20      1575.0   \n\n   worst smoothness  worst compactness  worst concavity  worst concave points  \\\n0            0.1622             0.6656           0.7119                0.2654   \n1            0.1238             0.1866           0.2416                0.1860   \n2            0.1444             0.4245           0.4504                0.2430   \n3            0.2098             0.8663           0.6869                0.2575   \n4            0.1374             0.2050           0.4000                0.1625   \n\n   worst symmetry  worst fractal dimension  target  \n0          0.4601                  0.11890       0  \n1          0.2750                  0.08902       0  \n2          0.3613                  0.08758       0  \n3          0.6638                  0.17300       0  \n4          0.2364                  0.07678       0  \n\n[5 rows x 31 columns]",
      "text/html": "<div>\n<style scoped>\n    .dataframe tbody tr th:only-of-type {\n        vertical-align: middle;\n    }\n\n    .dataframe tbody tr th {\n        vertical-align: top;\n    }\n\n    .dataframe thead th {\n        text-align: right;\n    }\n</style>\n<table border=\"1\" class=\"dataframe\">\n  <thead>\n    <tr style=\"text-align: right;\">\n      <th></th>\n      <th>mean radius</th>\n      <th>mean texture</th>\n      <th>mean perimeter</th>\n      <th>mean area</th>\n      <th>mean smoothness</th>\n      <th>mean compactness</th>\n      <th>mean concavity</th>\n      <th>mean concave points</th>\n      <th>mean symmetry</th>\n      <th>mean fractal dimension</th>\n      <th>...</th>\n      <th>worst texture</th>\n      <th>worst perimeter</th>\n      <th>worst area</th>\n      <th>worst smoothness</th>\n      <th>worst compactness</th>\n      <th>worst concavity</th>\n      <th>worst concave points</th>\n      <th>worst symmetry</th>\n      <th>worst fractal dimension</th>\n      <th>target</th>\n    </tr>\n  </thead>\n  <tbody>\n    <tr>\n      <th>0</th>\n      <td>17.99</td>\n      <td>10.38</td>\n      <td>122.80</td>\n      <td>1001.0</td>\n      <td>0.11840</td>\n      <td>0.27760</td>\n      <td>0.3001</td>\n      <td>0.14710</td>\n      <td>0.2419</td>\n      <td>0.07871</td>\n      <td>...</td>\n      <td>17.33</td>\n      <td>184.60</td>\n      <td>2019.0</td>\n      <td>0.1622</td>\n      <td>0.6656</td>\n      <td>0.7119</td>\n      <td>0.2654</td>\n      <td>0.4601</td>\n      <td>0.11890</td>\n      <td>0</td>\n    </tr>\n    <tr>\n      <th>1</th>\n      <td>20.57</td>\n      <td>17.77</td>\n      <td>132.90</td>\n      <td>1326.0</td>\n      <td>0.08474</td>\n      <td>0.07864</td>\n      <td>0.0869</td>\n      <td>0.07017</td>\n      <td>0.1812</td>\n      <td>0.05667</td>\n      <td>...</td>\n      <td>23.41</td>\n      <td>158.80</td>\n      <td>1956.0</td>\n      <td>0.1238</td>\n      <td>0.1866</td>\n      <td>0.2416</td>\n      <td>0.1860</td>\n      <td>0.2750</td>\n      <td>0.08902</td>\n      <td>0</td>\n    </tr>\n    <tr>\n      <th>2</th>\n      <td>19.69</td>\n      <td>21.25</td>\n      <td>130.00</td>\n      <td>1203.0</td>\n      <td>0.10960</td>\n      <td>0.15990</td>\n      <td>0.1974</td>\n      <td>0.12790</td>\n      <td>0.2069</td>\n      <td>0.05999</td>\n      <td>...</td>\n      <td>25.53</td>\n      <td>152.50</td>\n      <td>1709.0</td>\n      <td>0.1444</td>\n      <td>0.4245</td>\n      <td>0.4504</td>\n      <td>0.2430</td>\n      <td>0.3613</td>\n      <td>0.08758</td>\n      <td>0</td>\n    </tr>\n    <tr>\n      <th>3</th>\n      <td>11.42</td>\n      <td>20.38</td>\n      <td>77.58</td>\n      <td>386.1</td>\n      <td>0.14250</td>\n      <td>0.28390</td>\n      <td>0.2414</td>\n      <td>0.10520</td>\n      <td>0.2597</td>\n      <td>0.09744</td>\n      <td>...</td>\n      <td>26.50</td>\n      <td>98.87</td>\n      <td>567.7</td>\n      <td>0.2098</td>\n      <td>0.8663</td>\n      <td>0.6869</td>\n      <td>0.2575</td>\n      <td>0.6638</td>\n      <td>0.17300</td>\n      <td>0</td>\n    </tr>\n    <tr>\n      <th>4</th>\n      <td>20.29</td>\n      <td>14.34</td>\n      <td>135.10</td>\n      <td>1297.0</td>\n      <td>0.10030</td>\n      <td>0.13280</td>\n      <td>0.1980</td>\n      <td>0.10430</td>\n      <td>0.1809</td>\n      <td>0.05883</td>\n      <td>...</td>\n      <td>16.67</td>\n      <td>152.20</td>\n      <td>1575.0</td>\n      <td>0.1374</td>\n      <td>0.2050</td>\n      <td>0.4000</td>\n      <td>0.1625</td>\n      <td>0.2364</td>\n      <td>0.07678</td>\n      <td>0</td>\n    </tr>\n  </tbody>\n</table>\n<p>5 rows × 31 columns</p>\n</div>"
     },
     "execution_count": 3,
     "metadata": {},
     "output_type": "execute_result"
    }
   ],
   "source": [
    "# Primero debemos importar el set de datos.\n",
    "from sklearn import datasets\n",
    "\n",
    "# Es mejor especificar como parámetro as_frame = True para que devuelva un dataframe.\n",
    "datos = datasets.load_breast_cancer(as_frame=True)\n",
    "# Debemos importar pandas para que pueda ser leído\n",
    "import pandas\n",
    "datos = datos.frame      \n",
    "datos.head()"
   ]
  },
  {
   "cell_type": "code",
   "outputs": [
    {
     "data": {
      "text/plain": "       mean radius  mean texture  mean perimeter    mean area  \\\ncount   569.000000    569.000000      569.000000   569.000000   \nmean     14.127292     19.289649       91.969033   654.889104   \nstd       3.524049      4.301036       24.298981   351.914129   \nmin       6.981000      9.710000       43.790000   143.500000   \n25%      11.700000     16.170000       75.170000   420.300000   \n50%      13.370000     18.840000       86.240000   551.100000   \n75%      15.780000     21.800000      104.100000   782.700000   \nmax      28.110000     39.280000      188.500000  2501.000000   \n\n       mean smoothness  mean compactness  mean concavity  mean concave points  \\\ncount       569.000000        569.000000      569.000000           569.000000   \nmean          0.096360          0.104341        0.088799             0.048919   \nstd           0.014064          0.052813        0.079720             0.038803   \nmin           0.052630          0.019380        0.000000             0.000000   \n25%           0.086370          0.064920        0.029560             0.020310   \n50%           0.095870          0.092630        0.061540             0.033500   \n75%           0.105300          0.130400        0.130700             0.074000   \nmax           0.163400          0.345400        0.426800             0.201200   \n\n       mean symmetry  mean fractal dimension  ...  worst texture  \\\ncount     569.000000              569.000000  ...     569.000000   \nmean        0.181162                0.062798  ...      25.677223   \nstd         0.027414                0.007060  ...       6.146258   \nmin         0.106000                0.049960  ...      12.020000   \n25%         0.161900                0.057700  ...      21.080000   \n50%         0.179200                0.061540  ...      25.410000   \n75%         0.195700                0.066120  ...      29.720000   \nmax         0.304000                0.097440  ...      49.540000   \n\n       worst perimeter   worst area  worst smoothness  worst compactness  \\\ncount       569.000000   569.000000        569.000000         569.000000   \nmean        107.261213   880.583128          0.132369           0.254265   \nstd          33.602542   569.356993          0.022832           0.157336   \nmin          50.410000   185.200000          0.071170           0.027290   \n25%          84.110000   515.300000          0.116600           0.147200   \n50%          97.660000   686.500000          0.131300           0.211900   \n75%         125.400000  1084.000000          0.146000           0.339100   \nmax         251.200000  4254.000000          0.222600           1.058000   \n\n       worst concavity  worst concave points  worst symmetry  \\\ncount       569.000000            569.000000      569.000000   \nmean          0.272188              0.114606        0.290076   \nstd           0.208624              0.065732        0.061867   \nmin           0.000000              0.000000        0.156500   \n25%           0.114500              0.064930        0.250400   \n50%           0.226700              0.099930        0.282200   \n75%           0.382900              0.161400        0.317900   \nmax           1.252000              0.291000        0.663800   \n\n       worst fractal dimension      target  \ncount               569.000000  569.000000  \nmean                  0.083946    0.627417  \nstd                   0.018061    0.483918  \nmin                   0.055040    0.000000  \n25%                   0.071460    0.000000  \n50%                   0.080040    1.000000  \n75%                   0.092080    1.000000  \nmax                   0.207500    1.000000  \n\n[8 rows x 31 columns]",
      "text/html": "<div>\n<style scoped>\n    .dataframe tbody tr th:only-of-type {\n        vertical-align: middle;\n    }\n\n    .dataframe tbody tr th {\n        vertical-align: top;\n    }\n\n    .dataframe thead th {\n        text-align: right;\n    }\n</style>\n<table border=\"1\" class=\"dataframe\">\n  <thead>\n    <tr style=\"text-align: right;\">\n      <th></th>\n      <th>mean radius</th>\n      <th>mean texture</th>\n      <th>mean perimeter</th>\n      <th>mean area</th>\n      <th>mean smoothness</th>\n      <th>mean compactness</th>\n      <th>mean concavity</th>\n      <th>mean concave points</th>\n      <th>mean symmetry</th>\n      <th>mean fractal dimension</th>\n      <th>...</th>\n      <th>worst texture</th>\n      <th>worst perimeter</th>\n      <th>worst area</th>\n      <th>worst smoothness</th>\n      <th>worst compactness</th>\n      <th>worst concavity</th>\n      <th>worst concave points</th>\n      <th>worst symmetry</th>\n      <th>worst fractal dimension</th>\n      <th>target</th>\n    </tr>\n  </thead>\n  <tbody>\n    <tr>\n      <th>count</th>\n      <td>569.000000</td>\n      <td>569.000000</td>\n      <td>569.000000</td>\n      <td>569.000000</td>\n      <td>569.000000</td>\n      <td>569.000000</td>\n      <td>569.000000</td>\n      <td>569.000000</td>\n      <td>569.000000</td>\n      <td>569.000000</td>\n      <td>...</td>\n      <td>569.000000</td>\n      <td>569.000000</td>\n      <td>569.000000</td>\n      <td>569.000000</td>\n      <td>569.000000</td>\n      <td>569.000000</td>\n      <td>569.000000</td>\n      <td>569.000000</td>\n      <td>569.000000</td>\n      <td>569.000000</td>\n    </tr>\n    <tr>\n      <th>mean</th>\n      <td>14.127292</td>\n      <td>19.289649</td>\n      <td>91.969033</td>\n      <td>654.889104</td>\n      <td>0.096360</td>\n      <td>0.104341</td>\n      <td>0.088799</td>\n      <td>0.048919</td>\n      <td>0.181162</td>\n      <td>0.062798</td>\n      <td>...</td>\n      <td>25.677223</td>\n      <td>107.261213</td>\n      <td>880.583128</td>\n      <td>0.132369</td>\n      <td>0.254265</td>\n      <td>0.272188</td>\n      <td>0.114606</td>\n      <td>0.290076</td>\n      <td>0.083946</td>\n      <td>0.627417</td>\n    </tr>\n    <tr>\n      <th>std</th>\n      <td>3.524049</td>\n      <td>4.301036</td>\n      <td>24.298981</td>\n      <td>351.914129</td>\n      <td>0.014064</td>\n      <td>0.052813</td>\n      <td>0.079720</td>\n      <td>0.038803</td>\n      <td>0.027414</td>\n      <td>0.007060</td>\n      <td>...</td>\n      <td>6.146258</td>\n      <td>33.602542</td>\n      <td>569.356993</td>\n      <td>0.022832</td>\n      <td>0.157336</td>\n      <td>0.208624</td>\n      <td>0.065732</td>\n      <td>0.061867</td>\n      <td>0.018061</td>\n      <td>0.483918</td>\n    </tr>\n    <tr>\n      <th>min</th>\n      <td>6.981000</td>\n      <td>9.710000</td>\n      <td>43.790000</td>\n      <td>143.500000</td>\n      <td>0.052630</td>\n      <td>0.019380</td>\n      <td>0.000000</td>\n      <td>0.000000</td>\n      <td>0.106000</td>\n      <td>0.049960</td>\n      <td>...</td>\n      <td>12.020000</td>\n      <td>50.410000</td>\n      <td>185.200000</td>\n      <td>0.071170</td>\n      <td>0.027290</td>\n      <td>0.000000</td>\n      <td>0.000000</td>\n      <td>0.156500</td>\n      <td>0.055040</td>\n      <td>0.000000</td>\n    </tr>\n    <tr>\n      <th>25%</th>\n      <td>11.700000</td>\n      <td>16.170000</td>\n      <td>75.170000</td>\n      <td>420.300000</td>\n      <td>0.086370</td>\n      <td>0.064920</td>\n      <td>0.029560</td>\n      <td>0.020310</td>\n      <td>0.161900</td>\n      <td>0.057700</td>\n      <td>...</td>\n      <td>21.080000</td>\n      <td>84.110000</td>\n      <td>515.300000</td>\n      <td>0.116600</td>\n      <td>0.147200</td>\n      <td>0.114500</td>\n      <td>0.064930</td>\n      <td>0.250400</td>\n      <td>0.071460</td>\n      <td>0.000000</td>\n    </tr>\n    <tr>\n      <th>50%</th>\n      <td>13.370000</td>\n      <td>18.840000</td>\n      <td>86.240000</td>\n      <td>551.100000</td>\n      <td>0.095870</td>\n      <td>0.092630</td>\n      <td>0.061540</td>\n      <td>0.033500</td>\n      <td>0.179200</td>\n      <td>0.061540</td>\n      <td>...</td>\n      <td>25.410000</td>\n      <td>97.660000</td>\n      <td>686.500000</td>\n      <td>0.131300</td>\n      <td>0.211900</td>\n      <td>0.226700</td>\n      <td>0.099930</td>\n      <td>0.282200</td>\n      <td>0.080040</td>\n      <td>1.000000</td>\n    </tr>\n    <tr>\n      <th>75%</th>\n      <td>15.780000</td>\n      <td>21.800000</td>\n      <td>104.100000</td>\n      <td>782.700000</td>\n      <td>0.105300</td>\n      <td>0.130400</td>\n      <td>0.130700</td>\n      <td>0.074000</td>\n      <td>0.195700</td>\n      <td>0.066120</td>\n      <td>...</td>\n      <td>29.720000</td>\n      <td>125.400000</td>\n      <td>1084.000000</td>\n      <td>0.146000</td>\n      <td>0.339100</td>\n      <td>0.382900</td>\n      <td>0.161400</td>\n      <td>0.317900</td>\n      <td>0.092080</td>\n      <td>1.000000</td>\n    </tr>\n    <tr>\n      <th>max</th>\n      <td>28.110000</td>\n      <td>39.280000</td>\n      <td>188.500000</td>\n      <td>2501.000000</td>\n      <td>0.163400</td>\n      <td>0.345400</td>\n      <td>0.426800</td>\n      <td>0.201200</td>\n      <td>0.304000</td>\n      <td>0.097440</td>\n      <td>...</td>\n      <td>49.540000</td>\n      <td>251.200000</td>\n      <td>4254.000000</td>\n      <td>0.222600</td>\n      <td>1.058000</td>\n      <td>1.252000</td>\n      <td>0.291000</td>\n      <td>0.663800</td>\n      <td>0.207500</td>\n      <td>1.000000</td>\n    </tr>\n  </tbody>\n</table>\n<p>8 rows × 31 columns</p>\n</div>"
     },
     "execution_count": 4,
     "metadata": {},
     "output_type": "execute_result"
    }
   ],
   "source": [
    "# Miremos una descripción del set de datos.\n",
    "datos.describe()"
   ],
   "metadata": {
    "collapsed": false,
    "ExecuteTime": {
     "end_time": "2024-01-29T02:33:16.105791900Z",
     "start_time": "2024-01-29T02:33:16.012035Z"
    }
   },
   "id": "e42d2e1e4485df10",
   "execution_count": 4
  },
  {
   "cell_type": "code",
   "outputs": [
    {
     "name": "stdout",
     "output_type": "stream",
     "text": [
      "<class 'pandas.core.frame.DataFrame'>\n",
      "RangeIndex: 569 entries, 0 to 568\n",
      "Data columns (total 31 columns):\n",
      " #   Column                   Non-Null Count  Dtype  \n",
      "---  ------                   --------------  -----  \n",
      " 0   mean radius              569 non-null    float64\n",
      " 1   mean texture             569 non-null    float64\n",
      " 2   mean perimeter           569 non-null    float64\n",
      " 3   mean area                569 non-null    float64\n",
      " 4   mean smoothness          569 non-null    float64\n",
      " 5   mean compactness         569 non-null    float64\n",
      " 6   mean concavity           569 non-null    float64\n",
      " 7   mean concave points      569 non-null    float64\n",
      " 8   mean symmetry            569 non-null    float64\n",
      " 9   mean fractal dimension   569 non-null    float64\n",
      " 10  radius error             569 non-null    float64\n",
      " 11  texture error            569 non-null    float64\n",
      " 12  perimeter error          569 non-null    float64\n",
      " 13  area error               569 non-null    float64\n",
      " 14  smoothness error         569 non-null    float64\n",
      " 15  compactness error        569 non-null    float64\n",
      " 16  concavity error          569 non-null    float64\n",
      " 17  concave points error     569 non-null    float64\n",
      " 18  symmetry error           569 non-null    float64\n",
      " 19  fractal dimension error  569 non-null    float64\n",
      " 20  worst radius             569 non-null    float64\n",
      " 21  worst texture            569 non-null    float64\n",
      " 22  worst perimeter          569 non-null    float64\n",
      " 23  worst area               569 non-null    float64\n",
      " 24  worst smoothness         569 non-null    float64\n",
      " 25  worst compactness        569 non-null    float64\n",
      " 26  worst concavity          569 non-null    float64\n",
      " 27  worst concave points     569 non-null    float64\n",
      " 28  worst symmetry           569 non-null    float64\n",
      " 29  worst fractal dimension  569 non-null    float64\n",
      " 30  target                   569 non-null    int32  \n",
      "dtypes: float64(30), int32(1)\n",
      "memory usage: 135.7 KB\n"
     ]
    }
   ],
   "source": [
    "# Miremos una descripción del set de datos.\n",
    "datos.info()"
   ],
   "metadata": {
    "collapsed": false,
    "ExecuteTime": {
     "end_time": "2024-01-29T02:33:16.142222Z",
     "start_time": "2024-01-29T02:33:16.059061300Z"
    }
   },
   "id": "75c1fda111e8c4fd",
   "execution_count": 5
  },
  {
   "cell_type": "markdown",
   "source": [
    "Las descripciones del dataset nos demuestran que de momento no hay que realizar una limpieza en particular,\n",
    "al parecer el tipo de datos es completamente numérico y flotante.\n",
    "Este es un dato superimportante porque al parecer podemos proceder directamente al manejo y relaciones del modelo, \n",
    "ya que nos evitamos el paso gigantesco de tener que realizar la limpieza y corrección del dataset.\n"
   ],
   "metadata": {
    "collapsed": false
   },
   "id": "a1973b4b6d9e0e6"
  },
  {
   "cell_type": "code",
   "outputs": [],
   "source": [
    "# Como el dataset se encuentra en óptimas condiciones para nuestro modelo, \n",
    "# procederemos a realizar el entrenamiento y separación de forma inmediata.\n",
    "from sklearn.model_selection import train_test_split\n",
    "x = datos\n",
    "y = datos.target\n",
    "x_train, x_test, y_train, y_test = train_test_split(x, y, test_size= .3)"
   ],
   "metadata": {
    "collapsed": false,
    "ExecuteTime": {
     "end_time": "2024-01-29T02:33:16.142222Z",
     "start_time": "2024-01-29T02:33:16.091976300Z"
    }
   },
   "id": "c68e676a21338493",
   "execution_count": 6
  },
  {
   "cell_type": "code",
   "outputs": [
    {
     "name": "stdout",
     "output_type": "stream",
     "text": [
      "Exactitud 0.9122807017543859\n",
      "Precisión 0.8739495798319328\n"
     ]
    }
   ],
   "source": [
    "# Es la hora de realizar implementación del modelo de SVMs o de (Máquina de vector de soporte)\n",
    "from sklearn import svm\n",
    "from sklearn import metrics\n",
    "modelo = svm.SVC()\n",
    "modelo.fit(x_train, y_train)\n",
    "predicciones = modelo.predict(x_test)\n",
    "print(\"Exactitud\",metrics.accuracy_score(y_test,predicciones))\n",
    "print(\"Precisión\",metrics.precision_score(y_test,predicciones))"
   ],
   "metadata": {
    "collapsed": false,
    "ExecuteTime": {
     "end_time": "2024-01-29T02:33:16.229956700Z",
     "start_time": "2024-01-29T02:33:16.106821800Z"
    }
   },
   "id": "eea8d5909fb923cb",
   "execution_count": 7
  },
  {
   "cell_type": "code",
   "outputs": [
    {
     "name": "stdout",
     "output_type": "stream",
     "text": [
      "kernel: linear / Gamma:1: Exactitud 1.0\n",
      "kernel: linear / Gamma:1: Precisión 1.0\n",
      "kernel: linear / Gamma:0.1: Exactitud 1.0\n",
      "kernel: linear / Gamma:0.1: Precisión 1.0\n",
      "kernel: linear / Gamma:0.01: Exactitud 1.0\n",
      "kernel: linear / Gamma:0.01: Precisión 1.0\n",
      "kernel: linear / Gamma:0.001: Exactitud 1.0\n",
      "kernel: linear / Gamma:0.001: Precisión 1.0\n",
      "kernel: poly / Gamma:1: Exactitud 0.9883040935672515\n",
      "kernel: poly / Gamma:1: Precisión 0.9811320754716981\n",
      "kernel: poly / Gamma:0.1: Exactitud 0.9883040935672515\n",
      "kernel: poly / Gamma:0.1: Precisión 0.9811320754716981\n",
      "kernel: poly / Gamma:0.01: Exactitud 0.9883040935672515\n",
      "kernel: poly / Gamma:0.01: Precisión 0.9811320754716981\n",
      "kernel: poly / Gamma:0.001: Exactitud 0.9883040935672515\n",
      "kernel: poly / Gamma:0.001: Precisión 0.9811320754716981\n",
      "kernel: rbf / Gamma:1: Exactitud 0.6081871345029239\n",
      "kernel: rbf / Gamma:1: Precisión 0.6081871345029239\n",
      "kernel: rbf / Gamma:0.1: Exactitud 0.6081871345029239\n",
      "kernel: rbf / Gamma:0.1: Precisión 0.6081871345029239\n",
      "kernel: rbf / Gamma:0.01: Exactitud 0.6081871345029239\n",
      "kernel: rbf / Gamma:0.01: Precisión 0.6081871345029239\n",
      "kernel: rbf / Gamma:0.001: Exactitud 0.9532163742690059\n",
      "kernel: rbf / Gamma:0.001: Precisión 0.9705882352941176\n",
      "kernel: sigmoid / Gamma:1: Exactitud 0.6081871345029239\n",
      "kernel: sigmoid / Gamma:1: Precisión 0.6081871345029239\n",
      "kernel: sigmoid / Gamma:0.1: Exactitud 0.6081871345029239\n",
      "kernel: sigmoid / Gamma:0.1: Precisión 0.6081871345029239\n",
      "kernel: sigmoid / Gamma:0.01: Exactitud 0.6081871345029239\n",
      "kernel: sigmoid / Gamma:0.01: Precisión 0.6081871345029239\n",
      "kernel: sigmoid / Gamma:0.001: Exactitud 0.6081871345029239\n",
      "kernel: sigmoid / Gamma:0.001: Precisión 0.6081871345029239\n"
     ]
    }
   ],
   "source": [
    "# Probemos iterar un ciclo for para iterar los kernels y los gammas.\n",
    "# Estos kernels y gammas son parámetros ajustables con los que podemos jugar hasta encontrar\n",
    "# los parámetros más adecuados.\n",
    "\n",
    "from sklearn import svm\n",
    "from sklearn import metrics\n",
    "kernels = ['linear', 'poly', 'rbf', 'sigmoid']\n",
    "gammas = [1,0.1,0.01,0.001]\n",
    "\n",
    "for kernel in kernels:\n",
    "    for gamma in gammas:\n",
    "        modelo = svm.SVC(kernel=kernel, gamma=gamma)\n",
    "        modelo.fit(x_train, y_train)\n",
    "        predicciones = modelo.predict(x_test)\n",
    "        print(f\"kernel: {kernel} / Gamma:{gamma}: Exactitud\",metrics.accuracy_score(y_test,predicciones))\n",
    "        print(f\"kernel: {kernel} / Gamma:{gamma}: Precisión\",metrics.precision_score(y_test,predicciones))\n",
    "\n"
   ],
   "metadata": {
    "collapsed": false,
    "ExecuteTime": {
     "end_time": "2024-01-29T02:33:28.240552200Z",
     "start_time": "2024-01-29T02:33:16.167977900Z"
    }
   },
   "id": "be8a053a186aa74b",
   "execution_count": 8
  },
  {
   "cell_type": "code",
   "outputs": [
    {
     "name": "stdout",
     "output_type": "stream",
     "text": [
      "kernel: sigmoid / Gamma:0.001: Exactitud 0.6081871345029239\n",
      "kernel: sigmoid / Gamma:0.001: Precisión 0.6081871345029239\n"
     ]
    }
   ],
   "source": [
    "# Bueno, encontramos que el comportamiento de las iteraciones está mostrando modelos perfectos con,\n",
    "# relación a los kernels = \"linear\" y \"poly\", ya que su respuesta es el 1 absoluto\n",
    "# en cualquiera de sus gammas.\n",
    "# Entonces escojamos para nuestro modelo kernel = linear y gamma = 1.\n",
    "\n",
    "modelo = svm.SVC(kernel=kernel, gamma=gamma)\n",
    "modelo.fit(x_train, y_train)\n",
    "predicciones = modelo.predict(x_test)\n",
    "print(f\"kernel: {kernel} / Gamma:{gamma}: Exactitud\",metrics.accuracy_score(y_test,predicciones))\n",
    "print(f\"kernel: {kernel} / Gamma:{gamma}: Precisión\",metrics.precision_score(y_test,predicciones))"
   ],
   "metadata": {
    "collapsed": false,
    "ExecuteTime": {
     "end_time": "2024-01-29T02:33:28.271475400Z",
     "start_time": "2024-01-29T02:33:28.238551900Z"
    }
   },
   "id": "3134564ffce221af",
   "execution_count": 9
  },
  {
   "cell_type": "code",
   "outputs": [],
   "source": [],
   "metadata": {
    "collapsed": false,
    "ExecuteTime": {
     "end_time": "2024-01-29T02:33:28.272475400Z",
     "start_time": "2024-01-29T02:33:28.255570800Z"
    }
   },
   "id": "8becc895827ec2fe",
   "execution_count": 9
  },
  {
   "cell_type": "code",
   "outputs": [],
   "source": [],
   "metadata": {
    "collapsed": false,
    "ExecuteTime": {
     "end_time": "2024-01-29T02:33:28.288479100Z",
     "start_time": "2024-01-29T02:33:28.270474800Z"
    }
   },
   "id": "dc3ac0498d9ac2a6",
   "execution_count": 9
  },
  {
   "cell_type": "code",
   "outputs": [],
   "source": [],
   "metadata": {
    "collapsed": false,
    "ExecuteTime": {
     "end_time": "2024-01-29T02:33:28.301500400Z",
     "start_time": "2024-01-29T02:33:28.287480100Z"
    }
   },
   "id": "7eaf71915f28c233",
   "execution_count": 9
  },
  {
   "cell_type": "code",
   "outputs": [],
   "source": [],
   "metadata": {
    "collapsed": false,
    "ExecuteTime": {
     "end_time": "2024-01-29T02:33:28.321594600Z",
     "start_time": "2024-01-29T02:33:28.303506500Z"
    }
   },
   "id": "9bd60debf2a934e0",
   "execution_count": 9
  },
  {
   "cell_type": "code",
   "outputs": [
    {
     "data": {
      "text/plain": "<Figure size 1500x900 with 1 Axes>",
      "image/png": "[encoded data removed]"
     },
     "metadata": {},
     "output_type": "display_data"
    }
   ],
   "source": [
    "import pandas as pd\n",
    "import matplotlib.pyplot as plt\n",
    "from sklearn import svm, metrics\n",
    "\n",
    "# Tus datos de entrenamiento y prueba\n",
    "# x_train, y_train, x_test, y_test = ...\n",
    "\n",
    "# Lista para almacenar los resultados\n",
    "resultados = []\n",
    "\n",
    "kernels = ['linear', 'poly', 'rbf', 'sigmoid']\n",
    "gammas = [1, 0.1, 0.01, 0.001]\n",
    "\n",
    "for kernel in kernels:\n",
    "    for gamma in gammas:\n",
    "        modelo = svm.SVC(kernel=kernel, gamma=gamma)\n",
    "        modelo.fit(x_train, y_train)\n",
    "        predicciones = modelo.predict(x_test)\n",
    "\n",
    "        # Calcula la exactitud y la precisión\n",
    "        exactitud = metrics.accuracy_score(y_test, predicciones)\n",
    "        precision = metrics.precision_score(y_test, predicciones)\n",
    "\n",
    "        # Agrega los resultados a la lista\n",
    "        resultados.append({\n",
    "            'Kernel': kernel, \n",
    "            'Gamma': gamma, \n",
    "            'Exactitud': exactitud, \n",
    "            'Precision': precision\n",
    "        })\n",
    "\n",
    "# Crea un DataFrame a partir de la lista de resultados\n",
    "df_resultados = pd.DataFrame(resultados)\n",
    "\n",
    "# Gráfico de los resultados\n",
    "plt.figure(figsize=(15, 9))\n",
    "for kernel in kernels:\n",
    "    df_subset = df_resultados[df_resultados['Kernel'] == kernel]\n",
    "    plt.plot(df_subset['Gamma'], df_subset['Exactitud'], marker='o', label=f'{kernel} - Exactitud')\n",
    "\n",
    "plt.xlabel('Gamma')\n",
    "plt.ylabel('Puntaje')\n",
    "plt.xscale('log')\n",
    "plt.legend()\n",
    "plt.title('Exactitud y Precisión de SVM por Kernel y Gamma')\n",
    "plt.show()"
   ],
   "metadata": {
    "collapsed": false,
    "ExecuteTime": {
     "end_time": "2024-01-29T02:33:40.940839200Z",
     "start_time": "2024-01-29T02:33:28.321594600Z"
    }
   },
   "id": "3a80f74918e36443",
   "execution_count": 10
  }
 ],
 "metadata": {
  "kernelspec": {
   "display_name": "Python 3",
   "language": "python",
   "name": "python3"
  },
  "language_info": {
   "codemirror_mode": {
    "name": "ipython",
    "version": 2
   },
   "file_extension": ".py",
   "mimetype": "text/x-python",
   "name": "python",
   "nbconvert_exporter": "python",
   "pygments_lexer": "ipython2",
   "version": "2.7.6"
  }
 },
 "nbformat": 4,
 "nbformat_minor": 5
}
